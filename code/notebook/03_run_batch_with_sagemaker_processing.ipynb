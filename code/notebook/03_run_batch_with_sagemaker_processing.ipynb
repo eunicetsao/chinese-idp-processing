{
 "cells": [
  {
   "cell_type": "code",
   "execution_count": 1,
   "id": "5fbd5f6f-184f-446e-80ab-fefee0eabf7e",
   "metadata": {
    "collapsed": true,
    "jupyter": {
     "outputs_hidden": true
    },
    "tags": []
   },
   "outputs": [
    {
     "name": "stdout",
     "output_type": "stream",
     "text": [
      "Requirement already satisfied: jinja2 in /Users/yhtsao/opt/anaconda3/envs/bedrock/lib/python3.10/site-packages (3.1.4)\n",
      "Requirement already satisfied: pdfplumber in /Users/yhtsao/opt/anaconda3/envs/bedrock/lib/python3.10/site-packages (0.10.3)\n",
      "Requirement already satisfied: boto3==1.34.131 in /Users/yhtsao/opt/anaconda3/envs/bedrock/lib/python3.10/site-packages (1.34.131)\n",
      "Requirement already satisfied: botocore<1.35.0,>=1.34.131 in /Users/yhtsao/opt/anaconda3/envs/bedrock/lib/python3.10/site-packages (from boto3==1.34.131) (1.34.158)\n",
      "Requirement already satisfied: jmespath<2.0.0,>=0.7.1 in /Users/yhtsao/opt/anaconda3/envs/bedrock/lib/python3.10/site-packages (from boto3==1.34.131) (1.0.1)\n",
      "Requirement already satisfied: s3transfer<0.11.0,>=0.10.0 in /Users/yhtsao/opt/anaconda3/envs/bedrock/lib/python3.10/site-packages (from boto3==1.34.131) (0.10.2)\n",
      "Requirement already satisfied: MarkupSafe>=2.0 in /Users/yhtsao/opt/anaconda3/envs/bedrock/lib/python3.10/site-packages (from jinja2) (2.1.5)\n",
      "Requirement already satisfied: pdfminer.six==20221105 in /Users/yhtsao/opt/anaconda3/envs/bedrock/lib/python3.10/site-packages (from pdfplumber) (20221105)\n",
      "Requirement already satisfied: Pillow>=9.1 in /Users/yhtsao/opt/anaconda3/envs/bedrock/lib/python3.10/site-packages (from pdfplumber) (10.3.0)\n",
      "Requirement already satisfied: pypdfium2>=4.18.0 in /Users/yhtsao/opt/anaconda3/envs/bedrock/lib/python3.10/site-packages (from pdfplumber) (4.24.0)\n",
      "Requirement already satisfied: charset-normalizer>=2.0.0 in /Users/yhtsao/opt/anaconda3/envs/bedrock/lib/python3.10/site-packages (from pdfminer.six==20221105->pdfplumber) (3.3.2)\n",
      "Requirement already satisfied: cryptography>=36.0.0 in /Users/yhtsao/opt/anaconda3/envs/bedrock/lib/python3.10/site-packages (from pdfminer.six==20221105->pdfplumber) (41.0.5)\n",
      "Requirement already satisfied: python-dateutil<3.0.0,>=2.1 in /Users/yhtsao/opt/anaconda3/envs/bedrock/lib/python3.10/site-packages (from botocore<1.35.0,>=1.34.131->boto3==1.34.131) (2.9.0.post0)\n",
      "Requirement already satisfied: urllib3!=2.2.0,<3,>=1.25.4 in /Users/yhtsao/opt/anaconda3/envs/bedrock/lib/python3.10/site-packages (from botocore<1.35.0,>=1.34.131->boto3==1.34.131) (2.2.2)\n",
      "Requirement already satisfied: cffi>=1.12 in /Users/yhtsao/opt/anaconda3/envs/bedrock/lib/python3.10/site-packages (from cryptography>=36.0.0->pdfminer.six==20221105->pdfplumber) (1.16.0)\n",
      "Requirement already satisfied: six>=1.5 in /Users/yhtsao/opt/anaconda3/envs/bedrock/lib/python3.10/site-packages (from python-dateutil<3.0.0,>=2.1->botocore<1.35.0,>=1.34.131->boto3==1.34.131) (1.16.0)\n",
      "Requirement already satisfied: pycparser in /Users/yhtsao/opt/anaconda3/envs/bedrock/lib/python3.10/site-packages (from cffi>=1.12->cryptography>=36.0.0->pdfminer.six==20221105->pdfplumber) (2.21)\n",
      "\n",
      "\u001b[1m[\u001b[0m\u001b[34;49mnotice\u001b[0m\u001b[1;39;49m]\u001b[0m\u001b[39;49m A new release of pip is available: \u001b[0m\u001b[31;49m24.1.2\u001b[0m\u001b[39;49m -> \u001b[0m\u001b[32;49m24.2\u001b[0m\n",
      "\u001b[1m[\u001b[0m\u001b[34;49mnotice\u001b[0m\u001b[1;39;49m]\u001b[0m\u001b[39;49m To update, run: \u001b[0m\u001b[32;49mpip install --upgrade pip\u001b[0m\n"
     ]
    }
   ],
   "source": [
    "!pip install jinja2 pdfplumber boto3==1.34.131"
   ]
  },
  {
   "cell_type": "code",
   "execution_count": 2,
   "id": "cd936540",
   "metadata": {},
   "outputs": [],
   "source": [
    "import sys\n",
    "import os\n",
    "\n",
    "# Specify the new package root directory\n",
    "new_package_root = \"../\"\n",
    "\n",
    "# Add the new package root to the system path\n",
    "sys.path.insert(0, os.path.abspath(new_package_root))"
   ]
  },
  {
   "cell_type": "code",
   "execution_count": 3,
   "id": "4a90fa22-841c-4011-9029-ea34e1d91b31",
   "metadata": {
    "tags": []
   },
   "outputs": [
    {
     "name": "stderr",
     "output_type": "stream",
     "text": [
      "INFO:botocore.credentials:Found credentials in shared credentials file: ~/.aws/credentials\n"
     ]
    }
   ],
   "source": [
    "from jinja2 import Environment, FileSystemLoader\n",
    "import pdfplumber\n",
    "from src.utils import *\n",
    "\n",
    "bedrock_client = boto3.client(service_name='bedrock-runtime')"
   ]
  },
  {
   "cell_type": "code",
   "execution_count": 4,
   "id": "47fe2de0-9321-4c4e-b589-bc5e9e0140bf",
   "metadata": {
    "tags": []
   },
   "outputs": [],
   "source": [
    "# Specify the directory where the template file is located\n",
    "template_dir = '..'\n",
    "\n",
    "# Create a Jinja environment with the FileSystemLoader\n",
    "env = Environment(loader=FileSystemLoader(template_dir))\n",
    "\n",
    "# Load the template file\n",
    "system_prompt_template = env.get_template('template/system_prompt_template.jinja')\n",
    "user_prompt_pre_template = env.get_template('template/user_prompt_pre_template.jinja')\n",
    "user_prompt_post_template = env.get_template('template/user_prompt_post_template.jinja')"
   ]
  },
  {
   "cell_type": "code",
   "execution_count": 5,
   "id": "d5115b0f-c67f-47cf-905b-2a96c6767381",
   "metadata": {
    "tags": []
   },
   "outputs": [],
   "source": [
    "document = \"../data/User_Manual_W11_Acer_1.0_A_A_SHORT.pdf\"\n",
    "pdf_obj = pdfplumber.open(document)"
   ]
  },
  {
   "cell_type": "code",
   "execution_count": 6,
   "id": "6f172156-46e5-46f7-823c-43d142db4643",
   "metadata": {
    "collapsed": true,
    "jupyter": {
     "outputs_hidden": true
    },
    "tags": []
   },
   "outputs": [
    {
     "name": "stdout",
     "output_type": "stream",
     "text": [
      "<result>\n",
      "\n",
      "# Acer 筆記型電腦導覽\n",
      "\n",
      "P214-52 / P214-52G / P214-53 / P214-53G / P214-41 / P214-41-G2 / P214-41-G3\n",
      "\n",
      "![Acer laptop diagram showing numbered components: 1. Microphone, 2. Webcam shutter, 5. Foldable hinge screen, 6. Webcam](image_description)\n",
      "\n",
      "| #  | 項目             | 說明                                                                                     |\n",
      "|----|------------------|------------------------------------------------------------------------------------------|\n",
      "| 1  | 麥克風           | 內建數位麥克風，可用來錄音。                                                             |\n",
      "| 2  | 網路攝影機快門   | 將快門往右邊滑動以蓋上網路攝影機。<br>往左邊滑動即可打開護蓋。                           |\n",
      "| 3  | 網路攝影機       | 用於視訊通訊的網路攝影機，可偵測<br>用於臉部驗證的紅外線訊號。<br>網路攝影機旁的燈號顯示已啟用網路<br>攝影機。 |\n",
      "| 4  | 紅外線 LED       | 發出用於網路攝影機和臉部驗證的紅<br>外線燈光。                                           |\n",
      "| 5  | 平折轉軸螢幕     | 顯示電腦的輸出資訊。                                                                     |\n",
      "| 6  | 網路攝影機       | 網路攝影機，用於進行視訊通訊。<br>網路攝影機旁的燈號顯示已啟用網路<br>攝影機。           |\n",
      "\n",
      "</result>\n",
      "\n",
      "{\n",
      "  \"filename\": \"../data/User_Manual_W11_Acer_1.0_A_A_SHORT.pdf\",\n",
      "  \"page_number\": 0\n",
      "}\n",
      "\n",
      "\n",
      " ########################## \n",
      "\n",
      "\n",
      "<result>\n",
      "\n",
      "# 14 - Acer 筆記型電腦導覽\n",
      "\n",
      "## 左視圖\n",
      "\n",
      "### P214-52 / P214-52G / P214-41 / P214-41-G2 / P214-41-G3\n",
      "\n",
      "![左視圖 P214-52系列](image_description_1.md)\n",
      "\n",
      "1 2 3 4 5 6 7 8 9\n",
      "\n",
      "### P214-53 / P214-53G\n",
      "\n",
      "![左視圖 P214-53系列](image_description_2.md)\n",
      "\n",
      "1 2 3 4 5 6 10 8 9\n",
      "\n",
      "| # | 圖示 | 項目 | 說明 |\n",
      "|---|------|------|------|\n",
      "| 1 | ![DC輸入插孔圖示](icon_1.md) | DC 輸入插孔 | 連接到 AC 變壓器。 |\n",
      "| 2 | ![乙太網路圖示](icon_2.md) | 乙太網路 (RJ-45) 連接埠 | 連接到以 10/100/1000 為基礎的乙太網路。拉下邊緣可完全開啟連接埠。 |\n",
      "| 3 | ![外接顯示螢幕圖示](icon_3.md) | 外接顯示螢幕 (VGA) 連接埠 | 連接到顯示器裝置（例如：外接式顯示器、LCD 投影機）。 |\n",
      "| 4 | ![HDMI圖示](icon_4.md) | HDMI 連接埠 | 支援高解析度數位視訊連接。 |\n",
      "| 5 | ![USB含關機充電圖示](icon_5.md) | USB 連接埠含關機充電功能 | 連接到 USB 裝置。 |\n",
      "| 6 | ![USB圖示](icon_6.md) | USB 連接埠 | 連接到 USB 裝置。 |\n",
      "| 7 | ![DC輸入的USB Type-C圖示](icon_7.md) | DC 輸入的 USB Type-C 連接埠 | 透過 USB Type-C 連接器連接到 USB Type-C 電源轉接器或 USB 裝置。可經由 USB-C™ 支援 DisplayPort™。 |\n",
      "| 8 | ![SD讀卡機圖示](icon_8.md) | SD 讀卡機 | 可安裝一張 Secure Digital（SD 或 SDHC）記憶卡。一次只能使用一張卡片。 |\n",
      "| 9 | ![耳機/喇叭插孔圖示](icon_9.md) | 耳機/喇叭插孔 | 連接到音訊裝置（例如：喇叭、耳機）或內建麥克風的耳機。 |\n",
      "\n",
      "</result>\n",
      "\n",
      "{\n",
      "  \"filename\": \"../data/User_Manual_W11_Acer_1.0_A_A_SHORT.pdf\",\n",
      "  \"page_number\": 1\n",
      "}\n",
      "\n",
      "\n",
      " ########################## \n",
      "\n",
      "\n",
      "<result>\n",
      "\n",
      "# Windows 作業系統桌面\n",
      "\n",
      "![Windows作業系統桌面圖示，顯示了開始菜單、任務欄和快速設定面板](image_description)\n",
      "\n",
      "| #   | 項目 | 說明 |\n",
      "|-----|------|------|\n",
      "| 1   | [Settings]（設定） | 變更電腦的應用程式設定。 |\n",
      "| 2   | [Start]（開始） | 透過 [Pinned]（已釘選）、[Recommended]（推薦）或 [All apps]（所有應用程式）來啟動應用程式。 |\n",
      "| 3   | [Search]（搜尋） | 輸入要在電腦和網際網路上搜尋的文字。 |\n",
      "| 4   | [Task View]（工作檢視） | 允許在執行中的應用程式之間進行切換，並新增虛擬桌面平台。 |\n",
      "| 5   | [Widgets]（小工具） | 提供天氣、新聞、股票和體育資訊。 |\n",
      "| 6   | [Power]（電源） | 關機、睡眠或重新啟動電腦。 |\n",
      "| 7   | [Quick settings]（快速設定） | 顯示網路連線狀況、電池電量和音效設定。您可以切換快速控制項目以即時調整或開啟設定。 |\n",
      "| 8   | [Notification]（通知） | 顯示通知和行事曆。 |\n",
      "\n",
      "</result>\n",
      "\n",
      "{\n",
      "  \"filename\": \"../data/User_Manual_W11_Acer_1.0_A_A_SHORT.pdf\",\n",
      "  \"page_number\": 2\n",
      "}\n",
      "\n",
      "\n",
      " ########################## \n",
      "\n",
      "\n"
     ]
    }
   ],
   "source": [
    "for idx, page in enumerate(pdf_obj.pages[:3]):\n",
    "\n",
    "    # Prepare prompts\n",
    "    PDF_TEXT = page.extract_text(\n",
    "        layout=True, \n",
    "    )\n",
    "\n",
    "    system_text = system_prompt_template.render()\n",
    "    input_text_pre = user_prompt_pre_template.render(PDF_TEXT=PDF_TEXT, FILENAME=document, PAGE_NUMBER=idx)\n",
    "    input_text_post =user_prompt_post_template.render()\n",
    "\n",
    "    suitable_image_size = find_suitable_image_size(page)\n",
    "\n",
    "    input_image = './output_image.png'\n",
    "\n",
    "    model_id = \"anthropic.claude-3-5-sonnet-20240620-v1:0\"\n",
    "\n",
    "    response = generate_conversation(\n",
    "        bedrock_client,\n",
    "        model_id,\n",
    "        system_text,\n",
    "        input_text_pre,\n",
    "        input_text_post,\n",
    "        input_image\n",
    "    )\n",
    "\n",
    "    print(response['output']['message']['content'][0]['text'])\n",
    "    print(\"\\n\\n ########################## \\n\\n\")"
   ]
  },
  {
   "cell_type": "code",
   "execution_count": 32,
   "id": "60dbb028",
   "metadata": {},
   "outputs": [],
   "source": [
    "### SageMaker"
   ]
  },
  {
   "cell_type": "code",
   "execution_count": 72,
   "id": "5176ea0e-c64c-43c4-94bd-ed3c470f0d10",
   "metadata": {
    "tags": []
   },
   "outputs": [
    {
     "name": "stdout",
     "output_type": "stream",
     "text": [
      "Overwriting ../docker/Dockerfile\n"
     ]
    }
   ],
   "source": [
    "%%writefile ../docker/Dockerfile\n",
    "\n",
    "FROM python:3.10-slim\n",
    "RUN pip3 install boto3==1.34.131 pdfplumber==0.11.2 Jinja2==3.1.4 asyncio\n",
    "\n",
    "ENTRYPOINT [\"python3\"]"
   ]
  },
  {
   "cell_type": "code",
   "execution_count": 73,
   "id": "1fa1ff67-b3b3-41a7-b799-569ee0bcdbbb",
   "metadata": {
    "tags": []
   },
   "outputs": [],
   "source": [
    "import boto3\n",
    "\n",
    "account_id = boto3.client('sts').get_caller_identity().get('Account')\n",
    "region = boto3.Session().region_name\n",
    "ecr_repository = 'sagemaker-processing-async-custom-container'\n",
    "tag = ':latest'\n",
    "processing_repository_uri = '{}.dkr.ecr.{}.amazonaws.com/{}'.format(account_id, region, ecr_repository + tag)"
   ]
  },
  {
   "cell_type": "code",
   "execution_count": 21,
   "id": "700a30ee-aa10-487c-9e57-3034dd163a5d",
   "metadata": {
    "tags": []
   },
   "outputs": [],
   "source": [
    "#!whoami"
   ]
  },
  {
   "cell_type": "code",
   "execution_count": 3,
   "id": "f90fc1a1-3b84-48a0-936b-37326b88c96b",
   "metadata": {
    "collapsed": true,
    "jupyter": {
     "outputs_hidden": true
    },
    "tags": []
   },
   "outputs": [],
   "source": [
    "# # SageMaker Studio Notebook\n",
    "# !cd ../docker && docker build --network sagemaker -t {ecr_repository + tag} .\n",
    "!cd ../docker && docker build -t {ecr_repository + tag} ."
   ]
  },
  {
   "cell_type": "code",
   "execution_count": 75,
   "id": "878d7c58-e2d7-4ffa-827d-6870deee21c1",
   "metadata": {
    "tags": []
   },
   "outputs": [
    {
     "name": "stdout",
     "output_type": "stream",
     "text": [
      "Login Succeeded\n"
     ]
    }
   ],
   "source": [
    "!aws ecr get-login-password --region {region} | docker login --username AWS --password-stdin {account_id}.dkr.ecr.{region}.amazonaws.com"
   ]
  },
  {
   "cell_type": "code",
   "execution_count": 1,
   "id": "440d3238-930a-4e92-bffb-8bfa9f919e11",
   "metadata": {
    "tags": []
   },
   "outputs": [],
   "source": [
    "!aws ecr create-repository --repository-name $ecr_repository"
   ]
  },
  {
   "cell_type": "code",
   "execution_count": 77,
   "id": "0e7cf80b-b394-4c24-9d93-e86e10d3ceee",
   "metadata": {
    "tags": []
   },
   "outputs": [],
   "source": [
    "!docker tag {ecr_repository + tag} $processing_repository_uri"
   ]
  },
  {
   "cell_type": "code",
   "execution_count": 2,
   "id": "b7b2788c-d062-428f-9b9b-845a3a0b5a29",
   "metadata": {
    "tags": []
   },
   "outputs": [],
   "source": [
    "!docker push $processing_repository_uri"
   ]
  },
  {
   "cell_type": "code",
   "execution_count": 79,
   "id": "58c94ca1",
   "metadata": {
    "tags": []
   },
   "outputs": [],
   "source": [
    "# # SageMaker Studio Notebook\n",
    "# !docker run --network sagemaker --rm $processing_repository_uri\n",
    "!docker run --rm $processing_repository_uri"
   ]
  },
  {
   "cell_type": "code",
   "execution_count": null,
   "id": "318ea41b",
   "metadata": {},
   "outputs": [],
   "source": [
    "## Processor/ScriptProcessor\n",
    "### Processor需要先包script進入docker\n",
    "### ScriptProcess可以從local的script進入程式"
   ]
  },
  {
   "cell_type": "code",
   "execution_count": 80,
   "id": "4082687c-268b-40a8-8886-7186c39d2f48",
   "metadata": {
    "tags": []
   },
   "outputs": [],
   "source": [
    "import sagemaker\n",
    "from sagemaker.processing import ScriptProcessor, ProcessingInput, ProcessingOutput\n",
    "\n",
    "role = \"arn:aws:iam::<accountId>:role/service-role/<roleName>\""
   ]
  },
  {
   "cell_type": "code",
   "execution_count": 4,
   "id": "f885c823",
   "metadata": {
    "tags": []
   },
   "outputs": [],
   "source": [
    "input_s3_path = \"s3://<s3BucketName>/input\"\n",
    "script_s3_path = \"s3://<s3BucketName>/script\"\n",
    "output_s3_path = \"s3://<s3BucketName>/output\"\n",
    "\n",
    "processor = ScriptProcessor(image_uri=\"<imageUri>\",\n",
    "                            command=['python3'],\n",
    "                            base_job_name=\"<jobName>\",\n",
    "                            role=role,\n",
    "                            instance_count=1,\n",
    "                            instance_type=\"ml.m5.xlarge\")\n",
    "processor.run(\n",
    "    code=\"../src/start-async.py\",\n",
    "    inputs=[\n",
    "        ProcessingInput(\n",
    "            source=input_s3_path,\n",
    "            destination='/opt/ml/processing/input'),\n",
    "        ProcessingInput(\n",
    "            source=script_s3_path,\n",
    "            destination='/opt/ml/processing/script')\n",
    "    ],\n",
    "    outputs=[\n",
    "        ProcessingOutput(\n",
    "            source='/opt/ml/processing/output',\n",
    "            destination=output_s3_path)\n",
    "    ],\n",
    ")"
   ]
  }
 ],
 "metadata": {
  "availableInstances": [
   {
    "_defaultOrder": 0,
    "_isFastLaunch": true,
    "category": "General purpose",
    "gpuNum": 0,
    "hideHardwareSpecs": false,
    "memoryGiB": 4,
    "name": "ml.t3.medium",
    "vcpuNum": 2
   },
   {
    "_defaultOrder": 1,
    "_isFastLaunch": false,
    "category": "General purpose",
    "gpuNum": 0,
    "hideHardwareSpecs": false,
    "memoryGiB": 8,
    "name": "ml.t3.large",
    "vcpuNum": 2
   },
   {
    "_defaultOrder": 2,
    "_isFastLaunch": false,
    "category": "General purpose",
    "gpuNum": 0,
    "hideHardwareSpecs": false,
    "memoryGiB": 16,
    "name": "ml.t3.xlarge",
    "vcpuNum": 4
   },
   {
    "_defaultOrder": 3,
    "_isFastLaunch": false,
    "category": "General purpose",
    "gpuNum": 0,
    "hideHardwareSpecs": false,
    "memoryGiB": 32,
    "name": "ml.t3.2xlarge",
    "vcpuNum": 8
   },
   {
    "_defaultOrder": 4,
    "_isFastLaunch": true,
    "category": "General purpose",
    "gpuNum": 0,
    "hideHardwareSpecs": false,
    "memoryGiB": 8,
    "name": "ml.m5.large",
    "vcpuNum": 2
   },
   {
    "_defaultOrder": 5,
    "_isFastLaunch": false,
    "category": "General purpose",
    "gpuNum": 0,
    "hideHardwareSpecs": false,
    "memoryGiB": 16,
    "name": "ml.m5.xlarge",
    "vcpuNum": 4
   },
   {
    "_defaultOrder": 6,
    "_isFastLaunch": false,
    "category": "General purpose",
    "gpuNum": 0,
    "hideHardwareSpecs": false,
    "memoryGiB": 32,
    "name": "ml.m5.2xlarge",
    "vcpuNum": 8
   },
   {
    "_defaultOrder": 7,
    "_isFastLaunch": false,
    "category": "General purpose",
    "gpuNum": 0,
    "hideHardwareSpecs": false,
    "memoryGiB": 64,
    "name": "ml.m5.4xlarge",
    "vcpuNum": 16
   },
   {
    "_defaultOrder": 8,
    "_isFastLaunch": false,
    "category": "General purpose",
    "gpuNum": 0,
    "hideHardwareSpecs": false,
    "memoryGiB": 128,
    "name": "ml.m5.8xlarge",
    "vcpuNum": 32
   },
   {
    "_defaultOrder": 9,
    "_isFastLaunch": false,
    "category": "General purpose",
    "gpuNum": 0,
    "hideHardwareSpecs": false,
    "memoryGiB": 192,
    "name": "ml.m5.12xlarge",
    "vcpuNum": 48
   },
   {
    "_defaultOrder": 10,
    "_isFastLaunch": false,
    "category": "General purpose",
    "gpuNum": 0,
    "hideHardwareSpecs": false,
    "memoryGiB": 256,
    "name": "ml.m5.16xlarge",
    "vcpuNum": 64
   },
   {
    "_defaultOrder": 11,
    "_isFastLaunch": false,
    "category": "General purpose",
    "gpuNum": 0,
    "hideHardwareSpecs": false,
    "memoryGiB": 384,
    "name": "ml.m5.24xlarge",
    "vcpuNum": 96
   },
   {
    "_defaultOrder": 12,
    "_isFastLaunch": false,
    "category": "General purpose",
    "gpuNum": 0,
    "hideHardwareSpecs": false,
    "memoryGiB": 8,
    "name": "ml.m5d.large",
    "vcpuNum": 2
   },
   {
    "_defaultOrder": 13,
    "_isFastLaunch": false,
    "category": "General purpose",
    "gpuNum": 0,
    "hideHardwareSpecs": false,
    "memoryGiB": 16,
    "name": "ml.m5d.xlarge",
    "vcpuNum": 4
   },
   {
    "_defaultOrder": 14,
    "_isFastLaunch": false,
    "category": "General purpose",
    "gpuNum": 0,
    "hideHardwareSpecs": false,
    "memoryGiB": 32,
    "name": "ml.m5d.2xlarge",
    "vcpuNum": 8
   },
   {
    "_defaultOrder": 15,
    "_isFastLaunch": false,
    "category": "General purpose",
    "gpuNum": 0,
    "hideHardwareSpecs": false,
    "memoryGiB": 64,
    "name": "ml.m5d.4xlarge",
    "vcpuNum": 16
   },
   {
    "_defaultOrder": 16,
    "_isFastLaunch": false,
    "category": "General purpose",
    "gpuNum": 0,
    "hideHardwareSpecs": false,
    "memoryGiB": 128,
    "name": "ml.m5d.8xlarge",
    "vcpuNum": 32
   },
   {
    "_defaultOrder": 17,
    "_isFastLaunch": false,
    "category": "General purpose",
    "gpuNum": 0,
    "hideHardwareSpecs": false,
    "memoryGiB": 192,
    "name": "ml.m5d.12xlarge",
    "vcpuNum": 48
   },
   {
    "_defaultOrder": 18,
    "_isFastLaunch": false,
    "category": "General purpose",
    "gpuNum": 0,
    "hideHardwareSpecs": false,
    "memoryGiB": 256,
    "name": "ml.m5d.16xlarge",
    "vcpuNum": 64
   },
   {
    "_defaultOrder": 19,
    "_isFastLaunch": false,
    "category": "General purpose",
    "gpuNum": 0,
    "hideHardwareSpecs": false,
    "memoryGiB": 384,
    "name": "ml.m5d.24xlarge",
    "vcpuNum": 96
   },
   {
    "_defaultOrder": 20,
    "_isFastLaunch": false,
    "category": "General purpose",
    "gpuNum": 0,
    "hideHardwareSpecs": true,
    "memoryGiB": 0,
    "name": "ml.geospatial.interactive",
    "supportedImageNames": [
     "sagemaker-geospatial-v1-0"
    ],
    "vcpuNum": 0
   },
   {
    "_defaultOrder": 21,
    "_isFastLaunch": true,
    "category": "Compute optimized",
    "gpuNum": 0,
    "hideHardwareSpecs": false,
    "memoryGiB": 4,
    "name": "ml.c5.large",
    "vcpuNum": 2
   },
   {
    "_defaultOrder": 22,
    "_isFastLaunch": false,
    "category": "Compute optimized",
    "gpuNum": 0,
    "hideHardwareSpecs": false,
    "memoryGiB": 8,
    "name": "ml.c5.xlarge",
    "vcpuNum": 4
   },
   {
    "_defaultOrder": 23,
    "_isFastLaunch": false,
    "category": "Compute optimized",
    "gpuNum": 0,
    "hideHardwareSpecs": false,
    "memoryGiB": 16,
    "name": "ml.c5.2xlarge",
    "vcpuNum": 8
   },
   {
    "_defaultOrder": 24,
    "_isFastLaunch": false,
    "category": "Compute optimized",
    "gpuNum": 0,
    "hideHardwareSpecs": false,
    "memoryGiB": 32,
    "name": "ml.c5.4xlarge",
    "vcpuNum": 16
   },
   {
    "_defaultOrder": 25,
    "_isFastLaunch": false,
    "category": "Compute optimized",
    "gpuNum": 0,
    "hideHardwareSpecs": false,
    "memoryGiB": 72,
    "name": "ml.c5.9xlarge",
    "vcpuNum": 36
   },
   {
    "_defaultOrder": 26,
    "_isFastLaunch": false,
    "category": "Compute optimized",
    "gpuNum": 0,
    "hideHardwareSpecs": false,
    "memoryGiB": 96,
    "name": "ml.c5.12xlarge",
    "vcpuNum": 48
   },
   {
    "_defaultOrder": 27,
    "_isFastLaunch": false,
    "category": "Compute optimized",
    "gpuNum": 0,
    "hideHardwareSpecs": false,
    "memoryGiB": 144,
    "name": "ml.c5.18xlarge",
    "vcpuNum": 72
   },
   {
    "_defaultOrder": 28,
    "_isFastLaunch": false,
    "category": "Compute optimized",
    "gpuNum": 0,
    "hideHardwareSpecs": false,
    "memoryGiB": 192,
    "name": "ml.c5.24xlarge",
    "vcpuNum": 96
   },
   {
    "_defaultOrder": 29,
    "_isFastLaunch": true,
    "category": "Accelerated computing",
    "gpuNum": 1,
    "hideHardwareSpecs": false,
    "memoryGiB": 16,
    "name": "ml.g4dn.xlarge",
    "vcpuNum": 4
   },
   {
    "_defaultOrder": 30,
    "_isFastLaunch": false,
    "category": "Accelerated computing",
    "gpuNum": 1,
    "hideHardwareSpecs": false,
    "memoryGiB": 32,
    "name": "ml.g4dn.2xlarge",
    "vcpuNum": 8
   },
   {
    "_defaultOrder": 31,
    "_isFastLaunch": false,
    "category": "Accelerated computing",
    "gpuNum": 1,
    "hideHardwareSpecs": false,
    "memoryGiB": 64,
    "name": "ml.g4dn.4xlarge",
    "vcpuNum": 16
   },
   {
    "_defaultOrder": 32,
    "_isFastLaunch": false,
    "category": "Accelerated computing",
    "gpuNum": 1,
    "hideHardwareSpecs": false,
    "memoryGiB": 128,
    "name": "ml.g4dn.8xlarge",
    "vcpuNum": 32
   },
   {
    "_defaultOrder": 33,
    "_isFastLaunch": false,
    "category": "Accelerated computing",
    "gpuNum": 4,
    "hideHardwareSpecs": false,
    "memoryGiB": 192,
    "name": "ml.g4dn.12xlarge",
    "vcpuNum": 48
   },
   {
    "_defaultOrder": 34,
    "_isFastLaunch": false,
    "category": "Accelerated computing",
    "gpuNum": 1,
    "hideHardwareSpecs": false,
    "memoryGiB": 256,
    "name": "ml.g4dn.16xlarge",
    "vcpuNum": 64
   },
   {
    "_defaultOrder": 35,
    "_isFastLaunch": false,
    "category": "Accelerated computing",
    "gpuNum": 1,
    "hideHardwareSpecs": false,
    "memoryGiB": 61,
    "name": "ml.p3.2xlarge",
    "vcpuNum": 8
   },
   {
    "_defaultOrder": 36,
    "_isFastLaunch": false,
    "category": "Accelerated computing",
    "gpuNum": 4,
    "hideHardwareSpecs": false,
    "memoryGiB": 244,
    "name": "ml.p3.8xlarge",
    "vcpuNum": 32
   },
   {
    "_defaultOrder": 37,
    "_isFastLaunch": false,
    "category": "Accelerated computing",
    "gpuNum": 8,
    "hideHardwareSpecs": false,
    "memoryGiB": 488,
    "name": "ml.p3.16xlarge",
    "vcpuNum": 64
   },
   {
    "_defaultOrder": 38,
    "_isFastLaunch": false,
    "category": "Accelerated computing",
    "gpuNum": 8,
    "hideHardwareSpecs": false,
    "memoryGiB": 768,
    "name": "ml.p3dn.24xlarge",
    "vcpuNum": 96
   },
   {
    "_defaultOrder": 39,
    "_isFastLaunch": false,
    "category": "Memory Optimized",
    "gpuNum": 0,
    "hideHardwareSpecs": false,
    "memoryGiB": 16,
    "name": "ml.r5.large",
    "vcpuNum": 2
   },
   {
    "_defaultOrder": 40,
    "_isFastLaunch": false,
    "category": "Memory Optimized",
    "gpuNum": 0,
    "hideHardwareSpecs": false,
    "memoryGiB": 32,
    "name": "ml.r5.xlarge",
    "vcpuNum": 4
   },
   {
    "_defaultOrder": 41,
    "_isFastLaunch": false,
    "category": "Memory Optimized",
    "gpuNum": 0,
    "hideHardwareSpecs": false,
    "memoryGiB": 64,
    "name": "ml.r5.2xlarge",
    "vcpuNum": 8
   },
   {
    "_defaultOrder": 42,
    "_isFastLaunch": false,
    "category": "Memory Optimized",
    "gpuNum": 0,
    "hideHardwareSpecs": false,
    "memoryGiB": 128,
    "name": "ml.r5.4xlarge",
    "vcpuNum": 16
   },
   {
    "_defaultOrder": 43,
    "_isFastLaunch": false,
    "category": "Memory Optimized",
    "gpuNum": 0,
    "hideHardwareSpecs": false,
    "memoryGiB": 256,
    "name": "ml.r5.8xlarge",
    "vcpuNum": 32
   },
   {
    "_defaultOrder": 44,
    "_isFastLaunch": false,
    "category": "Memory Optimized",
    "gpuNum": 0,
    "hideHardwareSpecs": false,
    "memoryGiB": 384,
    "name": "ml.r5.12xlarge",
    "vcpuNum": 48
   },
   {
    "_defaultOrder": 45,
    "_isFastLaunch": false,
    "category": "Memory Optimized",
    "gpuNum": 0,
    "hideHardwareSpecs": false,
    "memoryGiB": 512,
    "name": "ml.r5.16xlarge",
    "vcpuNum": 64
   },
   {
    "_defaultOrder": 46,
    "_isFastLaunch": false,
    "category": "Memory Optimized",
    "gpuNum": 0,
    "hideHardwareSpecs": false,
    "memoryGiB": 768,
    "name": "ml.r5.24xlarge",
    "vcpuNum": 96
   },
   {
    "_defaultOrder": 47,
    "_isFastLaunch": false,
    "category": "Accelerated computing",
    "gpuNum": 1,
    "hideHardwareSpecs": false,
    "memoryGiB": 16,
    "name": "ml.g5.xlarge",
    "vcpuNum": 4
   },
   {
    "_defaultOrder": 48,
    "_isFastLaunch": false,
    "category": "Accelerated computing",
    "gpuNum": 1,
    "hideHardwareSpecs": false,
    "memoryGiB": 32,
    "name": "ml.g5.2xlarge",
    "vcpuNum": 8
   },
   {
    "_defaultOrder": 49,
    "_isFastLaunch": false,
    "category": "Accelerated computing",
    "gpuNum": 1,
    "hideHardwareSpecs": false,
    "memoryGiB": 64,
    "name": "ml.g5.4xlarge",
    "vcpuNum": 16
   },
   {
    "_defaultOrder": 50,
    "_isFastLaunch": false,
    "category": "Accelerated computing",
    "gpuNum": 1,
    "hideHardwareSpecs": false,
    "memoryGiB": 128,
    "name": "ml.g5.8xlarge",
    "vcpuNum": 32
   },
   {
    "_defaultOrder": 51,
    "_isFastLaunch": false,
    "category": "Accelerated computing",
    "gpuNum": 1,
    "hideHardwareSpecs": false,
    "memoryGiB": 256,
    "name": "ml.g5.16xlarge",
    "vcpuNum": 64
   },
   {
    "_defaultOrder": 52,
    "_isFastLaunch": false,
    "category": "Accelerated computing",
    "gpuNum": 4,
    "hideHardwareSpecs": false,
    "memoryGiB": 192,
    "name": "ml.g5.12xlarge",
    "vcpuNum": 48
   },
   {
    "_defaultOrder": 53,
    "_isFastLaunch": false,
    "category": "Accelerated computing",
    "gpuNum": 4,
    "hideHardwareSpecs": false,
    "memoryGiB": 384,
    "name": "ml.g5.24xlarge",
    "vcpuNum": 96
   },
   {
    "_defaultOrder": 54,
    "_isFastLaunch": false,
    "category": "Accelerated computing",
    "gpuNum": 8,
    "hideHardwareSpecs": false,
    "memoryGiB": 768,
    "name": "ml.g5.48xlarge",
    "vcpuNum": 192
   },
   {
    "_defaultOrder": 55,
    "_isFastLaunch": false,
    "category": "Accelerated computing",
    "gpuNum": 8,
    "hideHardwareSpecs": false,
    "memoryGiB": 1152,
    "name": "ml.p4d.24xlarge",
    "vcpuNum": 96
   },
   {
    "_defaultOrder": 56,
    "_isFastLaunch": false,
    "category": "Accelerated computing",
    "gpuNum": 8,
    "hideHardwareSpecs": false,
    "memoryGiB": 1152,
    "name": "ml.p4de.24xlarge",
    "vcpuNum": 96
   },
   {
    "_defaultOrder": 57,
    "_isFastLaunch": false,
    "category": "Accelerated computing",
    "gpuNum": 0,
    "hideHardwareSpecs": false,
    "memoryGiB": 32,
    "name": "ml.trn1.2xlarge",
    "vcpuNum": 8
   },
   {
    "_defaultOrder": 58,
    "_isFastLaunch": false,
    "category": "Accelerated computing",
    "gpuNum": 0,
    "hideHardwareSpecs": false,
    "memoryGiB": 512,
    "name": "ml.trn1.32xlarge",
    "vcpuNum": 128
   },
   {
    "_defaultOrder": 59,
    "_isFastLaunch": false,
    "category": "Accelerated computing",
    "gpuNum": 0,
    "hideHardwareSpecs": false,
    "memoryGiB": 512,
    "name": "ml.trn1n.32xlarge",
    "vcpuNum": 128
   }
  ],
  "instance_type": "ml.m5.large",
  "kernelspec": {
   "display_name": "Python 3",
   "language": "python",
   "name": "python3"
  },
  "language_info": {
   "codemirror_mode": {
    "name": "ipython",
    "version": 3
   },
   "file_extension": ".py",
   "mimetype": "text/x-python",
   "name": "python",
   "nbconvert_exporter": "python",
   "pygments_lexer": "ipython3",
   "version": "3.10.13"
  }
 },
 "nbformat": 4,
 "nbformat_minor": 5
}
